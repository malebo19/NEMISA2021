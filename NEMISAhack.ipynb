{
 "metadata": {
  "language_info": {
   "codemirror_mode": {
    "name": "ipython",
    "version": 3
   },
   "file_extension": ".py",
   "mimetype": "text/x-python",
   "name": "python",
   "nbconvert_exporter": "python",
   "pygments_lexer": "ipython3",
   "version": "3.8.2-final"
  },
  "orig_nbformat": 2,
  "kernelspec": {
   "name": "python3",
   "display_name": "Python 3.8.2 64-bit",
   "metadata": {
    "interpreter": {
     "hash": "aee8b7b246df8f9039afb4144a1f6fd8d2ca17a180786b69acc140d282b71a49"
    }
   }
  }
 },
 "nbformat": 4,
 "nbformat_minor": 2,
 "cells": [
  {
   "cell_type": "code",
   "execution_count": 19,
   "metadata": {},
   "outputs": [],
   "source": [
    "import pandas as pd\n",
    "import numpy as np"
   ]
  },
  {
   "cell_type": "code",
   "execution_count": 20,
   "metadata": {},
   "outputs": [
    {
     "output_type": "execute_result",
     "data": {
      "text/plain": [
       "      QuesionnaireNo  Expenditure  Household_Income      Province  \\\n",
       "0               2618        600.0                 1  Eastern Cape   \n",
       "1               2556       1200.0                 2  Eastern Cape   \n",
       "2               2504       1500.0                 1  Eastern Cape   \n",
       "3               2574       1500.0                 1  Eastern Cape   \n",
       "4               2587       1500.0                 2  Eastern Cape   \n",
       "...              ...          ...               ...           ...   \n",
       "2995            2288       1500.0                 1  Western Cape   \n",
       "2996            2159          NaN                 7  Western Cape   \n",
       "2997            2485       1500.0                 1  Western Cape   \n",
       "2998            2091       2000.0                 2  Western Cape   \n",
       "2999            2491       1000.0                 1  Western Cape   \n",
       "\n",
       "              Municipality       Area UrbanPeriUrbanRural  @1.DEMOGRAPHICS  \\\n",
       "0     Sundays River Valley   Kirkwood               Rural              NaN   \n",
       "1     Sundays River Valley   Kirkwood               Rural              NaN   \n",
       "2     Sundays River Valley   Kirkwood               Rural              NaN   \n",
       "3     Sundays River Valley   Kirkwood               Rural              NaN   \n",
       "4     Sundays River Valley   Kirkwood               Rural              NaN   \n",
       "...                    ...        ...                 ...              ...   \n",
       "2995     City Of Cape Town  Cape Town               Urban              NaN   \n",
       "2996     City Of Cape Town  Cape Town               Urban              NaN   \n",
       "2997     City Of Cape Town  Cape Town               Urban              NaN   \n",
       "2998           Drakenstein      Paarl               Rural              NaN   \n",
       "2999     City Of Cape Town  Cape Town               Urban              NaN   \n",
       "\n",
       "      Q1.WhatisyourGender  Q2.Inwhatyearwereyouborn  ...  \\\n",
       "0                       1                    1988.0  ...   \n",
       "1                       2                    1993.0  ...   \n",
       "2                       1                    1986.0  ...   \n",
       "3                       1                    1986.0  ...   \n",
       "4                       2                    1987.0  ...   \n",
       "...                   ...                       ...  ...   \n",
       "2995                    1                    2002.0  ...   \n",
       "2996                    2                    1995.0  ...   \n",
       "2997                    1                    1996.0  ...   \n",
       "2998                    1                    1953.0  ...   \n",
       "2999                    1                    1999.0  ...   \n",
       "\n",
       "      hDoesyourhouseholdownacar  \\\n",
       "0                             0   \n",
       "1                             1   \n",
       "2                             0   \n",
       "3                             1   \n",
       "4                             0   \n",
       "...                         ...   \n",
       "2995                          1   \n",
       "2996                          1   \n",
       "2997                          1   \n",
       "2998                          1   \n",
       "2999                          0   \n",
       "\n",
       "      Q7.Arealladultsaged15to64inthehouseholdunemployed   GENERAL       ICT  \\\n",
       "0                                                     1  2.333333  5.000000   \n",
       "1                                                     1  1.555556  2.222222   \n",
       "2                                                     0  3.000000  3.000000   \n",
       "3                                                     1  1.111111  3.777778   \n",
       "4                                                     1  1.000000  4.000000   \n",
       "...                                                 ...       ...       ...   \n",
       "2995                                                  0  2.333333  4.000000   \n",
       "2996                                                  1  3.000000  4.000000   \n",
       "2997                                                  0  1.777778  2.777778   \n",
       "2998                                                  0  1.000000  1.000000   \n",
       "2999                                                  0  2.333333  3.666667   \n",
       "\n",
       "     InformationDataLiteracy  Communication_Collaboration    Safety  \\\n",
       "0                        5.0                     1.666667  2.714286   \n",
       "1                        1.7                     1.000000  1.714286   \n",
       "2                        1.0                     1.000000  1.000000   \n",
       "3                        4.0                     4.000000  2.571429   \n",
       "4                        1.2                     2.000000  4.428571   \n",
       "...                      ...                          ...       ...   \n",
       "2995                     3.7                     3.000000  3.285714   \n",
       "2996                     3.9                     2.666667  3.142857   \n",
       "2997                     1.8                     2.000000  2.714286   \n",
       "2998                     1.3                     1.000000  1.285714   \n",
       "2999                     3.3                     2.000000  2.142857   \n",
       "\n",
       "      ProblemSolving  Age_Bins  Employment_Bins  \n",
       "0                4.2       1.0                0  \n",
       "1                1.4       1.0                0  \n",
       "2                1.0       1.0                0  \n",
       "3                4.8       1.0                0  \n",
       "4                3.6       1.0                0  \n",
       "...              ...       ...              ...  \n",
       "2995             3.8       0.0                2  \n",
       "2996             3.4       1.0                2  \n",
       "2997             2.2       1.0                2  \n",
       "2998             1.0       3.0                3  \n",
       "2999             3.0       1.0                4  \n",
       "\n",
       "[3000 rows x 289 columns]"
      ],
      "text/html": "<div>\n<style scoped>\n    .dataframe tbody tr th:only-of-type {\n        vertical-align: middle;\n    }\n\n    .dataframe tbody tr th {\n        vertical-align: top;\n    }\n\n    .dataframe thead th {\n        text-align: right;\n    }\n</style>\n<table border=\"1\" class=\"dataframe\">\n  <thead>\n    <tr style=\"text-align: right;\">\n      <th></th>\n      <th>QuesionnaireNo</th>\n      <th>Expenditure</th>\n      <th>Household_Income</th>\n      <th>Province</th>\n      <th>Municipality</th>\n      <th>Area</th>\n      <th>UrbanPeriUrbanRural</th>\n      <th>@1.DEMOGRAPHICS</th>\n      <th>Q1.WhatisyourGender</th>\n      <th>Q2.Inwhatyearwereyouborn</th>\n      <th>...</th>\n      <th>hDoesyourhouseholdownacar</th>\n      <th>Q7.Arealladultsaged15to64inthehouseholdunemployed</th>\n      <th>GENERAL</th>\n      <th>ICT</th>\n      <th>InformationDataLiteracy</th>\n      <th>Communication_Collaboration</th>\n      <th>Safety</th>\n      <th>ProblemSolving</th>\n      <th>Age_Bins</th>\n      <th>Employment_Bins</th>\n    </tr>\n  </thead>\n  <tbody>\n    <tr>\n      <th>0</th>\n      <td>2618</td>\n      <td>600.0</td>\n      <td>1</td>\n      <td>Eastern Cape</td>\n      <td>Sundays River Valley</td>\n      <td>Kirkwood</td>\n      <td>Rural</td>\n      <td>NaN</td>\n      <td>1</td>\n      <td>1988.0</td>\n      <td>...</td>\n      <td>0</td>\n      <td>1</td>\n      <td>2.333333</td>\n      <td>5.000000</td>\n      <td>5.0</td>\n      <td>1.666667</td>\n      <td>2.714286</td>\n      <td>4.2</td>\n      <td>1.0</td>\n      <td>0</td>\n    </tr>\n    <tr>\n      <th>1</th>\n      <td>2556</td>\n      <td>1200.0</td>\n      <td>2</td>\n      <td>Eastern Cape</td>\n      <td>Sundays River Valley</td>\n      <td>Kirkwood</td>\n      <td>Rural</td>\n      <td>NaN</td>\n      <td>2</td>\n      <td>1993.0</td>\n      <td>...</td>\n      <td>1</td>\n      <td>1</td>\n      <td>1.555556</td>\n      <td>2.222222</td>\n      <td>1.7</td>\n      <td>1.000000</td>\n      <td>1.714286</td>\n      <td>1.4</td>\n      <td>1.0</td>\n      <td>0</td>\n    </tr>\n    <tr>\n      <th>2</th>\n      <td>2504</td>\n      <td>1500.0</td>\n      <td>1</td>\n      <td>Eastern Cape</td>\n      <td>Sundays River Valley</td>\n      <td>Kirkwood</td>\n      <td>Rural</td>\n      <td>NaN</td>\n      <td>1</td>\n      <td>1986.0</td>\n      <td>...</td>\n      <td>0</td>\n      <td>0</td>\n      <td>3.000000</td>\n      <td>3.000000</td>\n      <td>1.0</td>\n      <td>1.000000</td>\n      <td>1.000000</td>\n      <td>1.0</td>\n      <td>1.0</td>\n      <td>0</td>\n    </tr>\n    <tr>\n      <th>3</th>\n      <td>2574</td>\n      <td>1500.0</td>\n      <td>1</td>\n      <td>Eastern Cape</td>\n      <td>Sundays River Valley</td>\n      <td>Kirkwood</td>\n      <td>Rural</td>\n      <td>NaN</td>\n      <td>1</td>\n      <td>1986.0</td>\n      <td>...</td>\n      <td>1</td>\n      <td>1</td>\n      <td>1.111111</td>\n      <td>3.777778</td>\n      <td>4.0</td>\n      <td>4.000000</td>\n      <td>2.571429</td>\n      <td>4.8</td>\n      <td>1.0</td>\n      <td>0</td>\n    </tr>\n    <tr>\n      <th>4</th>\n      <td>2587</td>\n      <td>1500.0</td>\n      <td>2</td>\n      <td>Eastern Cape</td>\n      <td>Sundays River Valley</td>\n      <td>Kirkwood</td>\n      <td>Rural</td>\n      <td>NaN</td>\n      <td>2</td>\n      <td>1987.0</td>\n      <td>...</td>\n      <td>0</td>\n      <td>1</td>\n      <td>1.000000</td>\n      <td>4.000000</td>\n      <td>1.2</td>\n      <td>2.000000</td>\n      <td>4.428571</td>\n      <td>3.6</td>\n      <td>1.0</td>\n      <td>0</td>\n    </tr>\n    <tr>\n      <th>...</th>\n      <td>...</td>\n      <td>...</td>\n      <td>...</td>\n      <td>...</td>\n      <td>...</td>\n      <td>...</td>\n      <td>...</td>\n      <td>...</td>\n      <td>...</td>\n      <td>...</td>\n      <td>...</td>\n      <td>...</td>\n      <td>...</td>\n      <td>...</td>\n      <td>...</td>\n      <td>...</td>\n      <td>...</td>\n      <td>...</td>\n      <td>...</td>\n      <td>...</td>\n      <td>...</td>\n    </tr>\n    <tr>\n      <th>2995</th>\n      <td>2288</td>\n      <td>1500.0</td>\n      <td>1</td>\n      <td>Western Cape</td>\n      <td>City Of Cape Town</td>\n      <td>Cape Town</td>\n      <td>Urban</td>\n      <td>NaN</td>\n      <td>1</td>\n      <td>2002.0</td>\n      <td>...</td>\n      <td>1</td>\n      <td>0</td>\n      <td>2.333333</td>\n      <td>4.000000</td>\n      <td>3.7</td>\n      <td>3.000000</td>\n      <td>3.285714</td>\n      <td>3.8</td>\n      <td>0.0</td>\n      <td>2</td>\n    </tr>\n    <tr>\n      <th>2996</th>\n      <td>2159</td>\n      <td>NaN</td>\n      <td>7</td>\n      <td>Western Cape</td>\n      <td>City Of Cape Town</td>\n      <td>Cape Town</td>\n      <td>Urban</td>\n      <td>NaN</td>\n      <td>2</td>\n      <td>1995.0</td>\n      <td>...</td>\n      <td>1</td>\n      <td>1</td>\n      <td>3.000000</td>\n      <td>4.000000</td>\n      <td>3.9</td>\n      <td>2.666667</td>\n      <td>3.142857</td>\n      <td>3.4</td>\n      <td>1.0</td>\n      <td>2</td>\n    </tr>\n    <tr>\n      <th>2997</th>\n      <td>2485</td>\n      <td>1500.0</td>\n      <td>1</td>\n      <td>Western Cape</td>\n      <td>City Of Cape Town</td>\n      <td>Cape Town</td>\n      <td>Urban</td>\n      <td>NaN</td>\n      <td>1</td>\n      <td>1996.0</td>\n      <td>...</td>\n      <td>1</td>\n      <td>0</td>\n      <td>1.777778</td>\n      <td>2.777778</td>\n      <td>1.8</td>\n      <td>2.000000</td>\n      <td>2.714286</td>\n      <td>2.2</td>\n      <td>1.0</td>\n      <td>2</td>\n    </tr>\n    <tr>\n      <th>2998</th>\n      <td>2091</td>\n      <td>2000.0</td>\n      <td>2</td>\n      <td>Western Cape</td>\n      <td>Drakenstein</td>\n      <td>Paarl</td>\n      <td>Rural</td>\n      <td>NaN</td>\n      <td>1</td>\n      <td>1953.0</td>\n      <td>...</td>\n      <td>1</td>\n      <td>0</td>\n      <td>1.000000</td>\n      <td>1.000000</td>\n      <td>1.3</td>\n      <td>1.000000</td>\n      <td>1.285714</td>\n      <td>1.0</td>\n      <td>3.0</td>\n      <td>3</td>\n    </tr>\n    <tr>\n      <th>2999</th>\n      <td>2491</td>\n      <td>1000.0</td>\n      <td>1</td>\n      <td>Western Cape</td>\n      <td>City Of Cape Town</td>\n      <td>Cape Town</td>\n      <td>Urban</td>\n      <td>NaN</td>\n      <td>1</td>\n      <td>1999.0</td>\n      <td>...</td>\n      <td>0</td>\n      <td>0</td>\n      <td>2.333333</td>\n      <td>3.666667</td>\n      <td>3.3</td>\n      <td>2.000000</td>\n      <td>2.142857</td>\n      <td>3.0</td>\n      <td>1.0</td>\n      <td>4</td>\n    </tr>\n  </tbody>\n</table>\n<p>3000 rows × 289 columns</p>\n</div>"
     },
     "metadata": {},
     "execution_count": 20
    }
   ],
   "source": [
    "dataset = pd.read_excel('environtental.xlsx')\n",
    "dataset"
   ]
  },
  {
   "cell_type": "code",
   "execution_count": 21,
   "metadata": {},
   "outputs": [
    {
     "output_type": "error",
     "ename": "NameError",
     "evalue": "name 'data' is not defined",
     "traceback": [
      "\u001b[0;31m---------------------------------------------------------------------------\u001b[0m",
      "\u001b[0;31mNameError\u001b[0m                                 Traceback (most recent call last)",
      "\u001b[0;32m<ipython-input-21-90fe221e2671>\u001b[0m in \u001b[0;36m<module>\u001b[0;34m\u001b[0m\n\u001b[0;32m----> 1\u001b[0;31m \u001b[0meda_df\u001b[0m \u001b[0;34m=\u001b[0m \u001b[0mdata\u001b[0m\u001b[0;34m.\u001b[0m\u001b[0mcopy\u001b[0m\u001b[0;34m(\u001b[0m\u001b[0;34m)\u001b[0m\u001b[0;34m\u001b[0m\u001b[0;34m\u001b[0m\u001b[0m\n\u001b[0m",
      "\u001b[0;31mNameError\u001b[0m: name 'data' is not defined"
     ]
    }
   ],
   "source": [
    "eda_df = data.copy()"
   ]
  },
  {
   "cell_type": "code",
   "execution_count": 22,
   "metadata": {},
   "outputs": [],
   "source": [
    "eda_df = dataset.copy()"
   ]
  },
  {
   "cell_type": "code",
   "execution_count": 23,
   "metadata": {},
   "outputs": [
    {
     "output_type": "execute_result",
     "data": {
      "text/plain": [
       "(3000, 289)"
      ]
     },
     "metadata": {},
     "execution_count": 23
    }
   ],
   "source": [
    "eda_df.shape"
   ]
  },
  {
   "cell_type": "code",
   "execution_count": 26,
   "metadata": {},
   "outputs": [
    {
     "output_type": "stream",
     "name": "stdout",
     "text": [
      "<class 'pandas.core.frame.DataFrame'>\nRangeIndex: 3000 entries, 0 to 2999\nColumns: 289 entries, QuesionnaireNo to Employment_Bins\ndtypes: float64(70), int64(214), object(5)\nmemory usage: 6.6+ MB\n"
     ]
    }
   ],
   "source": [
    "eda_df.info()"
   ]
  },
  {
   "cell_type": "code",
   "execution_count": 27,
   "metadata": {},
   "outputs": [
    {
     "output_type": "execute_result",
     "data": {
      "text/plain": [
       "       QuesionnaireNo   Expenditure  Household_Income  @1.DEMOGRAPHICS  \\\n",
       "count     3000.000000   2841.000000       3000.000000              0.0   \n",
       "mean      1501.350000   2245.244632          3.209333              NaN   \n",
       "std        866.037461   1615.950465          2.024569              NaN   \n",
       "min          2.000000    100.000000          1.000000              NaN   \n",
       "25%        751.750000   1300.000000          2.000000              NaN   \n",
       "50%       1501.500000   2000.000000          2.000000              NaN   \n",
       "75%       2250.250000   3000.000000          4.000000              NaN   \n",
       "max       3001.000000  15000.000000          7.000000              NaN   \n",
       "\n",
       "       Q1.WhatisyourGender  Q2.Inwhatyearwereyouborn          Age  \\\n",
       "count          3000.000000               2814.000000  2813.000000   \n",
       "mean              1.500333               1987.103767    31.895841   \n",
       "std               0.500083                  9.890760     9.892496   \n",
       "min               1.000000               1909.000000    15.000000   \n",
       "25%               1.000000               1982.000000    25.000000   \n",
       "50%               2.000000               1989.000000    30.000000   \n",
       "75%               2.000000               1994.000000    37.000000   \n",
       "max               2.000000               2004.000000   110.000000   \n",
       "\n",
       "       Q3.Populationgroupchooseonlyone  Q4.FirstLanguagechooseonlyone  \\\n",
       "count                      3000.000000                    2996.000000   \n",
       "mean                          1.293000                       5.707276   \n",
       "std                           0.708979                       3.215171   \n",
       "min                           1.000000                       1.000000   \n",
       "25%                           1.000000                       4.000000   \n",
       "50%                           1.000000                       5.000000   \n",
       "75%                           1.000000                       8.000000   \n",
       "max                           5.000000                      13.000000   \n",
       "\n",
       "       Q5.ProvinceofResidenceinSouthAfricachooseonlyone  ...  \\\n",
       "count                                       3000.000000  ...   \n",
       "mean                                           5.083000  ...   \n",
       "std                                            2.597376  ...   \n",
       "min                                            1.000000  ...   \n",
       "25%                                            3.000000  ...   \n",
       "50%                                            4.500000  ...   \n",
       "75%                                            7.250000  ...   \n",
       "max                                            9.000000  ...   \n",
       "\n",
       "       hDoesyourhouseholdownacar  \\\n",
       "count                3000.000000   \n",
       "mean                    0.519333   \n",
       "std                     0.499709   \n",
       "min                     0.000000   \n",
       "25%                     0.000000   \n",
       "50%                     1.000000   \n",
       "75%                     1.000000   \n",
       "max                     1.000000   \n",
       "\n",
       "       Q7.Arealladultsaged15to64inthehouseholdunemployed      GENERAL  \\\n",
       "count                                        3000.000000  3000.000000   \n",
       "mean                                            0.229000     2.030037   \n",
       "std                                             0.420259     0.650919   \n",
       "min                                             0.000000     1.000000   \n",
       "25%                                             0.000000     1.777778   \n",
       "50%                                             0.000000     2.000000   \n",
       "75%                                             0.000000     2.333333   \n",
       "max                                             1.000000     5.000000   \n",
       "\n",
       "               ICT  InformationDataLiteracy  Communication_Collaboration  \\\n",
       "count  3000.000000              2999.000000                  2999.000000   \n",
       "mean      2.539630                 2.420707                     2.279204   \n",
       "std       0.929180                 0.892823                     0.906411   \n",
       "min       1.000000                 1.000000                     1.000000   \n",
       "25%       2.000000                 1.900000                     2.000000   \n",
       "50%       2.222222                 2.200000                     2.000000   \n",
       "75%       3.000000                 2.800000                     2.666667   \n",
       "max       5.000000                 5.000000                     5.000000   \n",
       "\n",
       "            Safety  ProblemSolving     Age_Bins  Employment_Bins  \n",
       "count  3000.000000     3000.000000  2811.000000      3000.000000  \n",
       "mean      2.410905        2.632000     1.308431         0.888667  \n",
       "std       0.820951        0.909504     0.513030         0.696970  \n",
       "min       1.000000        1.000000     0.000000         0.000000  \n",
       "25%       2.000000        2.000000     1.000000         0.000000  \n",
       "50%       2.285714        2.400000     1.000000         1.000000  \n",
       "75%       2.714286        3.200000     2.000000         1.000000  \n",
       "max       5.000000        5.000000     3.000000         4.000000  \n",
       "\n",
       "[8 rows x 284 columns]"
      ],
      "text/html": "<div>\n<style scoped>\n    .dataframe tbody tr th:only-of-type {\n        vertical-align: middle;\n    }\n\n    .dataframe tbody tr th {\n        vertical-align: top;\n    }\n\n    .dataframe thead th {\n        text-align: right;\n    }\n</style>\n<table border=\"1\" class=\"dataframe\">\n  <thead>\n    <tr style=\"text-align: right;\">\n      <th></th>\n      <th>QuesionnaireNo</th>\n      <th>Expenditure</th>\n      <th>Household_Income</th>\n      <th>@1.DEMOGRAPHICS</th>\n      <th>Q1.WhatisyourGender</th>\n      <th>Q2.Inwhatyearwereyouborn</th>\n      <th>Age</th>\n      <th>Q3.Populationgroupchooseonlyone</th>\n      <th>Q4.FirstLanguagechooseonlyone</th>\n      <th>Q5.ProvinceofResidenceinSouthAfricachooseonlyone</th>\n      <th>...</th>\n      <th>hDoesyourhouseholdownacar</th>\n      <th>Q7.Arealladultsaged15to64inthehouseholdunemployed</th>\n      <th>GENERAL</th>\n      <th>ICT</th>\n      <th>InformationDataLiteracy</th>\n      <th>Communication_Collaboration</th>\n      <th>Safety</th>\n      <th>ProblemSolving</th>\n      <th>Age_Bins</th>\n      <th>Employment_Bins</th>\n    </tr>\n  </thead>\n  <tbody>\n    <tr>\n      <th>count</th>\n      <td>3000.000000</td>\n      <td>2841.000000</td>\n      <td>3000.000000</td>\n      <td>0.0</td>\n      <td>3000.000000</td>\n      <td>2814.000000</td>\n      <td>2813.000000</td>\n      <td>3000.000000</td>\n      <td>2996.000000</td>\n      <td>3000.000000</td>\n      <td>...</td>\n      <td>3000.000000</td>\n      <td>3000.000000</td>\n      <td>3000.000000</td>\n      <td>3000.000000</td>\n      <td>2999.000000</td>\n      <td>2999.000000</td>\n      <td>3000.000000</td>\n      <td>3000.000000</td>\n      <td>2811.000000</td>\n      <td>3000.000000</td>\n    </tr>\n    <tr>\n      <th>mean</th>\n      <td>1501.350000</td>\n      <td>2245.244632</td>\n      <td>3.209333</td>\n      <td>NaN</td>\n      <td>1.500333</td>\n      <td>1987.103767</td>\n      <td>31.895841</td>\n      <td>1.293000</td>\n      <td>5.707276</td>\n      <td>5.083000</td>\n      <td>...</td>\n      <td>0.519333</td>\n      <td>0.229000</td>\n      <td>2.030037</td>\n      <td>2.539630</td>\n      <td>2.420707</td>\n      <td>2.279204</td>\n      <td>2.410905</td>\n      <td>2.632000</td>\n      <td>1.308431</td>\n      <td>0.888667</td>\n    </tr>\n    <tr>\n      <th>std</th>\n      <td>866.037461</td>\n      <td>1615.950465</td>\n      <td>2.024569</td>\n      <td>NaN</td>\n      <td>0.500083</td>\n      <td>9.890760</td>\n      <td>9.892496</td>\n      <td>0.708979</td>\n      <td>3.215171</td>\n      <td>2.597376</td>\n      <td>...</td>\n      <td>0.499709</td>\n      <td>0.420259</td>\n      <td>0.650919</td>\n      <td>0.929180</td>\n      <td>0.892823</td>\n      <td>0.906411</td>\n      <td>0.820951</td>\n      <td>0.909504</td>\n      <td>0.513030</td>\n      <td>0.696970</td>\n    </tr>\n    <tr>\n      <th>min</th>\n      <td>2.000000</td>\n      <td>100.000000</td>\n      <td>1.000000</td>\n      <td>NaN</td>\n      <td>1.000000</td>\n      <td>1909.000000</td>\n      <td>15.000000</td>\n      <td>1.000000</td>\n      <td>1.000000</td>\n      <td>1.000000</td>\n      <td>...</td>\n      <td>0.000000</td>\n      <td>0.000000</td>\n      <td>1.000000</td>\n      <td>1.000000</td>\n      <td>1.000000</td>\n      <td>1.000000</td>\n      <td>1.000000</td>\n      <td>1.000000</td>\n      <td>0.000000</td>\n      <td>0.000000</td>\n    </tr>\n    <tr>\n      <th>25%</th>\n      <td>751.750000</td>\n      <td>1300.000000</td>\n      <td>2.000000</td>\n      <td>NaN</td>\n      <td>1.000000</td>\n      <td>1982.000000</td>\n      <td>25.000000</td>\n      <td>1.000000</td>\n      <td>4.000000</td>\n      <td>3.000000</td>\n      <td>...</td>\n      <td>0.000000</td>\n      <td>0.000000</td>\n      <td>1.777778</td>\n      <td>2.000000</td>\n      <td>1.900000</td>\n      <td>2.000000</td>\n      <td>2.000000</td>\n      <td>2.000000</td>\n      <td>1.000000</td>\n      <td>0.000000</td>\n    </tr>\n    <tr>\n      <th>50%</th>\n      <td>1501.500000</td>\n      <td>2000.000000</td>\n      <td>2.000000</td>\n      <td>NaN</td>\n      <td>2.000000</td>\n      <td>1989.000000</td>\n      <td>30.000000</td>\n      <td>1.000000</td>\n      <td>5.000000</td>\n      <td>4.500000</td>\n      <td>...</td>\n      <td>1.000000</td>\n      <td>0.000000</td>\n      <td>2.000000</td>\n      <td>2.222222</td>\n      <td>2.200000</td>\n      <td>2.000000</td>\n      <td>2.285714</td>\n      <td>2.400000</td>\n      <td>1.000000</td>\n      <td>1.000000</td>\n    </tr>\n    <tr>\n      <th>75%</th>\n      <td>2250.250000</td>\n      <td>3000.000000</td>\n      <td>4.000000</td>\n      <td>NaN</td>\n      <td>2.000000</td>\n      <td>1994.000000</td>\n      <td>37.000000</td>\n      <td>1.000000</td>\n      <td>8.000000</td>\n      <td>7.250000</td>\n      <td>...</td>\n      <td>1.000000</td>\n      <td>0.000000</td>\n      <td>2.333333</td>\n      <td>3.000000</td>\n      <td>2.800000</td>\n      <td>2.666667</td>\n      <td>2.714286</td>\n      <td>3.200000</td>\n      <td>2.000000</td>\n      <td>1.000000</td>\n    </tr>\n    <tr>\n      <th>max</th>\n      <td>3001.000000</td>\n      <td>15000.000000</td>\n      <td>7.000000</td>\n      <td>NaN</td>\n      <td>2.000000</td>\n      <td>2004.000000</td>\n      <td>110.000000</td>\n      <td>5.000000</td>\n      <td>13.000000</td>\n      <td>9.000000</td>\n      <td>...</td>\n      <td>1.000000</td>\n      <td>1.000000</td>\n      <td>5.000000</td>\n      <td>5.000000</td>\n      <td>5.000000</td>\n      <td>5.000000</td>\n      <td>5.000000</td>\n      <td>5.000000</td>\n      <td>3.000000</td>\n      <td>4.000000</td>\n    </tr>\n  </tbody>\n</table>\n<p>8 rows × 284 columns</p>\n</div>"
     },
     "metadata": {},
     "execution_count": 27
    }
   ],
   "source": [
    "eda_df.describe()"
   ]
  },
  {
   "cell_type": "code",
   "execution_count": 28,
   "metadata": {},
   "outputs": [
    {
     "output_type": "execute_result",
     "data": {
      "text/plain": [
       "2    924\n",
       "1    587\n",
       "7    479\n",
       "3    465\n",
       "4    354\n",
       "5    117\n",
       "6     74\n",
       "Name: Household_Income, dtype: int64"
      ]
     },
     "metadata": {},
     "execution_count": 28
    }
   ],
   "source": [
    "eda_df.Household_Income.value_counts()"
   ]
  },
  {
   "cell_type": "code",
   "execution_count": 30,
   "metadata": {},
   "outputs": [],
   "source": [
    "import seaborn as sns"
   ]
  },
  {
   "cell_type": "code",
   "execution_count": 31,
   "metadata": {},
   "outputs": [
    {
     "output_type": "execute_result",
     "data": {
      "text/plain": [
       "Index(['QuesionnaireNo', 'Expenditure', 'Household_Income', 'Province',\n",
       "       'Municipality', 'Area', 'UrbanPeriUrbanRural', '@1.DEMOGRAPHICS',\n",
       "       'Q1.WhatisyourGender', 'Q2.Inwhatyearwereyouborn',\n",
       "       ...\n",
       "       'hDoesyourhouseholdownacar',\n",
       "       'Q7.Arealladultsaged15to64inthehouseholdunemployed', 'GENERAL', 'ICT',\n",
       "       'InformationDataLiteracy', 'Communication_Collaboration', 'Safety',\n",
       "       'ProblemSolving', 'Age_Bins', 'Employment_Bins'],\n",
       "      dtype='object', length=289)"
      ]
     },
     "metadata": {},
     "execution_count": 31
    }
   ],
   "source": [
    "eda_df.columns"
   ]
  },
  {
   "cell_type": "code",
   "execution_count": 32,
   "metadata": {},
   "outputs": [
    {
     "output_type": "execute_result",
     "data": {
      "text/plain": [
       "Kwazulu Natal    500\n",
       "Western Cape     500\n",
       "Gauteng          499\n",
       "Northwest        251\n",
       "Northern Cape    250\n",
       "Free State       250\n",
       "Limpopo          250\n",
       "Eastern Cape     250\n",
       "Mpumalanga       250\n",
       "Name: Province, dtype: int64"
      ]
     },
     "metadata": {},
     "execution_count": 32
    }
   ],
   "source": [
    "eda_df.Province.value_counts()"
   ]
  },
  {
   "cell_type": "code",
   "execution_count": 33,
   "metadata": {},
   "outputs": [
    {
     "output_type": "execute_result",
     "data": {
      "text/plain": [
       "City of Joburg          450\n",
       "City Of Cape Town       400\n",
       "Mbombela                250\n",
       "Emondlo                 250\n",
       "eThekhwini              250\n",
       "Sol-Plaatjie            225\n",
       "Mangaung                200\n",
       "Makhado                 174\n",
       "Greater Taung           150\n",
       "Sundays River Valley    125\n",
       "Nelson Mandela Bay      125\n",
       "Drakenstein             100\n",
       "Rustenburg               76\n",
       "Capricorn                51\n",
       "Manstopa                 50\n",
       "Sedibeng                 49\n",
       "Madibeng                 25\n",
       "Ga-Segonyana             25\n",
       "Thulamela                25\n",
       "Name: Municipality, dtype: int64"
      ]
     },
     "metadata": {},
     "execution_count": 33
    }
   ],
   "source": [
    "eda_df.Municipality.value_counts()"
   ]
  },
  {
   "cell_type": "code",
   "execution_count": 34,
   "metadata": {},
   "outputs": [
    {
     "output_type": "execute_result",
     "data": {
      "text/plain": [
       "Cape Town         350\n",
       "Johannesburg      310\n",
       "eMondlo           250\n",
       "Kimberley         175\n",
       "Tshakhuma         174\n",
       "Durban            150\n",
       "Bloemfontein      150\n",
       "Taung             150\n",
       "Kanyamazane       125\n",
       "Kirkwood          125\n",
       "Alexandra         100\n",
       "Port Elizabeth    100\n",
       "Umlazi            100\n",
       "Paarl             100\n",
       "Nelspruit         100\n",
       "Rustenburg         76\n",
       "Polokwane          51\n",
       "Khayelitsha        50\n",
       "Galeshewe          50\n",
       "Botshabelo         50\n",
       "Thaba Nchu         50\n",
       "Orange Farm        49\n",
       "Bramley            40\n",
       "Thohoyandou        25\n",
       "White River        25\n",
       "Haartebeesport     25\n",
       "KwaZakhele         25\n",
       "Barkley West       25\n",
       "Name: Area, dtype: int64"
      ]
     },
     "metadata": {},
     "execution_count": 34
    }
   ],
   "source": [
    "eda_df.Area.value_counts()"
   ]
  },
  {
   "cell_type": "code",
   "execution_count": 35,
   "metadata": {},
   "outputs": [
    {
     "output_type": "execute_result",
     "data": {
      "text/plain": [
       "Urban         1502\n",
       "Rural          824\n",
       "Township       549\n",
       "Peri-Urban     125\n",
       "Name: UrbanPeriUrbanRural, dtype: int64"
      ]
     },
     "metadata": {},
     "execution_count": 35
    }
   ],
   "source": [
    "eda_df.UrbanPeriUrbanRural.value_counts()"
   ]
  },
  {
   "cell_type": "code",
   "execution_count": 38,
   "metadata": {},
   "outputs": [
    {
     "output_type": "execute_result",
     "data": {
      "text/plain": [
       "2.0    342\n",
       "2.1    209\n",
       "2.2    194\n",
       "1.7    187\n",
       "2.3    163\n",
       "1.9    154\n",
       "1.8    151\n",
       "2.4    127\n",
       "2.5    124\n",
       "2.6     97\n",
       "5.0     95\n",
       "1.6     88\n",
       "3.0     84\n",
       "2.7     84\n",
       "2.8     81\n",
       "1.5     74\n",
       "2.9     64\n",
       "1.0     61\n",
       "1.4     57\n",
       "3.2     54\n",
       "1.3     50\n",
       "4.0     48\n",
       "3.1     45\n",
       "1.2     43\n",
       "3.3     36\n",
       "3.5     34\n",
       "3.6     29\n",
       "3.4     29\n",
       "4.8     26\n",
       "1.1     22\n",
       "4.3     22\n",
       "4.1     21\n",
       "3.9     19\n",
       "3.8     16\n",
       "4.2     14\n",
       "4.6     13\n",
       "4.4     13\n",
       "3.7     11\n",
       "4.7      8\n",
       "4.5      6\n",
       "4.9      4\n",
       "Name: InformationDataLiteracy, dtype: int64"
      ]
     },
     "metadata": {},
     "execution_count": 38
    }
   ],
   "source": [
    "eda_df.InformationDataLiteracy.value_counts()"
   ]
  },
  {
   "cell_type": "code",
   "execution_count": 41,
   "metadata": {},
   "outputs": [
    {
     "output_type": "execute_result",
     "data": {
      "text/plain": [
       "QuesionnaireNo                   0\n",
       "Expenditure                    159\n",
       "Household_Income                 0\n",
       "Province                         0\n",
       "Municipality                     0\n",
       "                              ... \n",
       "Communication_Collaboration      1\n",
       "Safety                           0\n",
       "ProblemSolving                   0\n",
       "Age_Bins                       189\n",
       "Employment_Bins                  0\n",
       "Length: 289, dtype: int64"
      ]
     },
     "metadata": {},
     "execution_count": 41
    }
   ],
   "source": [
    "#cleaning the data\n",
    "eda_df.isnull().sum()"
   ]
  },
  {
   "cell_type": "code",
   "execution_count": 44,
   "metadata": {},
   "outputs": [
    {
     "output_type": "error",
     "ename": "NameError",
     "evalue": "name 'column' is not defined",
     "traceback": [
      "\u001b[0;31m---------------------------------------------------------------------------\u001b[0m",
      "\u001b[0;31mNameError\u001b[0m                                 Traceback (most recent call last)",
      "\u001b[0;32m<ipython-input-44-fade4967c848>\u001b[0m in \u001b[0;36m<module>\u001b[0;34m\u001b[0m\n\u001b[1;32m      1\u001b[0m \u001b[0;31m#configuring the columns with a lot of null values\u001b[0m\u001b[0;34m\u001b[0m\u001b[0;34m\u001b[0m\u001b[0;34m\u001b[0m\u001b[0m\n\u001b[1;32m      2\u001b[0m \u001b[0;32mfor\u001b[0m \u001b[0mx\u001b[0m \u001b[0;32min\u001b[0m \u001b[0mrange\u001b[0m\u001b[0;34m(\u001b[0m\u001b[0;36m1\u001b[0m\u001b[0;34m,\u001b[0m\u001b[0;36m290\u001b[0m\u001b[0;34m)\u001b[0m\u001b[0;34m:\u001b[0m\u001b[0;34m\u001b[0m\u001b[0;34m\u001b[0m\u001b[0m\n\u001b[0;32m----> 3\u001b[0;31m     \u001b[0;32mif\u001b[0m \u001b[0;34m(\u001b[0m\u001b[0meda_df\u001b[0m\u001b[0;34m[\u001b[0m\u001b[0mcolumn\u001b[0m\u001b[0;34m]\u001b[0m\u001b[0;34m.\u001b[0m\u001b[0misnull\u001b[0m\u001b[0;34m(\u001b[0m\u001b[0;34m)\u001b[0m\u001b[0;34m.\u001b[0m\u001b[0msum\u001b[0m\u001b[0;34m(\u001b[0m\u001b[0;34m)\u001b[0m \u001b[0;34m<=\u001b[0m \u001b[0;36m10\u001b[0m\u001b[0;34m)\u001b[0m\u001b[0;34m:\u001b[0m\u001b[0;34m\u001b[0m\u001b[0;34m\u001b[0m\u001b[0m\n\u001b[0m\u001b[1;32m      4\u001b[0m         \u001b[0mprint\u001b[0m\u001b[0;34m(\u001b[0m\u001b[0meda_df\u001b[0m\u001b[0;34m[\u001b[0m\u001b[0mcolumn\u001b[0m\u001b[0;34m]\u001b[0m\u001b[0;34m)\u001b[0m\u001b[0;34m\u001b[0m\u001b[0;34m\u001b[0m\u001b[0m\n",
      "\u001b[0;31mNameError\u001b[0m: name 'column' is not defined"
     ]
    }
   ],
   "source": [
    "#configuring the columns with a lot of null values\n",
    "for x in range(1,290):\n",
    "    if (eda_df.isnull().sum() <= 10):\n",
    "        print(eda_df)"
   ]
  },
  {
   "cell_type": "code",
   "execution_count": null,
   "metadata": {},
   "outputs": [],
   "source": []
  }
 ]
}